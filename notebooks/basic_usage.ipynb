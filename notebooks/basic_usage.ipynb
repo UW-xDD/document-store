{
 "cells": [
  {
   "cell_type": "markdown",
   "metadata": {},
   "source": [
    "### xDD Document-store API Basic Usage\n",
    "\n",
    "The xDD document-store currently supports a simple set of operations for retrieving full documents and individual pages from the xDD corpus.\n",
    "\n",
    "**Note**: The document-store API requires simple API key authentication. Place your API key in a file called `config.json` in this directory\n",
    "prior to running the following examples.\n",
    "```json\n",
    "{\n",
    "    \"API_KEY\": \"<your api key>\"\n",
    "}\n",
    "```"
   ]
  },
  {
   "cell_type": "code",
   "execution_count": null,
   "metadata": {},
   "outputs": [],
   "source": [
    "import requests\n",
    "import json\n",
    "from IPython.display import FileLink\n",
    "\n",
    "BASE_URL = \"https://xdddev.chtc.io/documentstore-api\"\n",
    "\n",
    "with open(\"./config.json\") as config:\n",
    "    API_KEY = json.load(config)[\"API_KEY\"]\n",
    "\n"
   ]
  },
  {
   "cell_type": "markdown",
   "metadata": {},
   "source": [
    "#### List Documents\n",
    "\n",
    "The `/documents` endpoint returns a paginated list of article metadata, alphabetically sorted by title."
   ]
  },
  {
   "cell_type": "code",
   "execution_count": null,
   "metadata": {},
   "outputs": [],
   "source": [
    "PAGE=2\n",
    "PER_PAGE=25\n",
    "sample_page = requests.get(f\"{BASE_URL}/documents?page={PAGE}&per_page={PER_PAGE}\").json()\n",
    "sample_document = sample_page[0]\n",
    "print(json.dumps(sample_page, indent=2))"
   ]
  },
  {
   "cell_type": "markdown",
   "metadata": {},
   "source": [
    "### Retrieve an individual document's metadata\n",
    "\n",
    "The `/documents/{document_id}` endpoint returns a single document's metadata"
   ]
  },
  {
   "cell_type": "code",
   "execution_count": null,
   "metadata": {},
   "outputs": [],
   "source": [
    "sample_document_id = sample_document['id']\n",
    "sample_document_metadata = requests.get(f'{BASE_URL}/documents/{sample_document_id}').json()\n",
    "\n",
    "print(json.dumps(sample_document_metadata, indent=2))"
   ]
  },
  {
   "cell_type": "markdown",
   "metadata": {},
   "source": [
    "### Retrieve the full content of an individual document\n",
    "\n",
    "The `/documents/{document_id}/content` endpoint returns the full PDF contents of a document. Note the required `X-Api-Key` header for retrieving PDF content"
   ]
  },
  {
   "cell_type": "code",
   "execution_count": null,
   "metadata": {},
   "outputs": [],
   "source": [
    "with open('./sample.pdf','wb') as pdf_writer:\n",
    "    content = requests.get(\n",
    "        f'{BASE_URL}/documents/{sample_document_id}/content', \n",
    "        headers={'X-Api-Key': API_KEY}\n",
    "    ).content\n",
    "    pdf_writer.write(content)\n",
    "\n",
    "print(f\"Document '{sample_document['title']}' downloaded at {FileLink('./sample.pdf')}\")\n"
   ]
  },
  {
   "cell_type": "markdown",
   "metadata": {},
   "source": [
    "### Retrieve a single page from a given document\n",
    "\n",
    "The `/documents/{document_id}/page/{page_num}` endpoint returns a single page of the specified document. \n",
    "The `content_type={pdf|webp|svg}` query parameter can be used to retrieve the page in a variety of content types."
   ]
  },
  {
   "cell_type": "code",
   "execution_count": null,
   "metadata": {},
   "outputs": [],
   "source": [
    "PAGE_NUM = 0\n",
    "with open('./sample_page.pdf','wb') as pdf_writer:\n",
    "    content = requests.get(\n",
    "        f'{BASE_URL}/documents/{sample_document_id}/page/{PAGE_NUM}', \n",
    "        headers={'X-Api-Key': API_KEY}\n",
    "    ).content\n",
    "    pdf_writer.write(content)\n",
    "\n",
    "with open('./sample_page.webp','wb') as webp_writer:\n",
    "    content = requests.get(\n",
    "        f'{BASE_URL}/documents/{sample_document_id}/page/{PAGE_NUM}?content_type=webp', \n",
    "        headers={'X-Api-Key': API_KEY}\n",
    "    ).content\n",
    "    webp_writer.write(content)\n",
    "\n",
    "print(f\"Document page {PAGE_NUM} downloaded at {FileLink('./sample_page.pdf')}\")\n",
    "print(f\"Also downloaded as webp at {FileLink('./sample_page.webp')}\")\n"
   ]
  },
  {
   "cell_type": "markdown",
   "metadata": {},
   "source": [
    "### Retrieve a higlighted snippet from a given document\n",
    "\n",
    "The `/documents/{document_id}/page/{page_num}/snippet/{x0},{y0},{x1},{y1}` endpoint returns a single page of the specified document with the given region highlighted. \n",
    "The `content_type={pdf|webp|svg}` query parameter can be used to retrieve the snippet in a variety of content types."
   ]
  },
  {
   "cell_type": "code",
   "execution_count": null,
   "metadata": {},
   "outputs": [],
   "source": [
    "PAGE_NUM = 0\n",
    "SNIPPET = [25, 25, 725, 900]\n",
    "\n",
    "snippet = ','.join(str(s) for s in SNIPPET)\n",
    "\n",
    "with open('./sample_snippet.pdf','wb') as pdf_writer:\n",
    "    content = requests.get(\n",
    "        f'{BASE_URL}/documents/{sample_document_id}/page/{PAGE_NUM}/snippet/{snippet}', \n",
    "        headers={'X-Api-Key': API_KEY}\n",
    "    ).content\n",
    "    pdf_writer.write(content)\n",
    "\n",
    "with open('./sample_snippet.webp','wb') as webp_writer:\n",
    "    content = requests.get(\n",
    "        f'{BASE_URL}/documents/{sample_document_id}/page/{PAGE_NUM}/snippet/{snippet}?content_type=webp', \n",
    "        headers={'X-Api-Key': API_KEY}\n",
    "    ).content\n",
    "    webp_writer.write(content)\n",
    "\n",
    "print(f\"Document snippet page={PAGE_NUM}; bounds={snippet} downloaded at {FileLink('./sample_snippet.pdf')}\")\n",
    "print(f\"Also downloaded as webp at {FileLink('./sample_snippet.webp')}\")\n"
   ]
  }
 ],
 "metadata": {
  "kernelspec": {
   "display_name": ".venv",
   "language": "python",
   "name": "python3"
  },
  "language_info": {
   "codemirror_mode": {
    "name": "ipython",
    "version": 3
   },
   "file_extension": ".py",
   "mimetype": "text/x-python",
   "name": "python",
   "nbconvert_exporter": "python",
   "pygments_lexer": "ipython3",
   "version": "3.10.12"
  }
 },
 "nbformat": 4,
 "nbformat_minor": 2
}
